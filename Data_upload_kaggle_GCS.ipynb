{
  "nbformat": 4,
  "nbformat_minor": 0,
  "metadata": {
    "colab": {
      "provenance": []
    },
    "kernelspec": {
      "name": "python3",
      "display_name": "Python 3"
    },
    "language_info": {
      "name": "python"
    }
  },
  "cells": [
    {
      "cell_type": "code",
      "source": [
        "!pip install kagglehub[pandas-datasets]\n",
        "# Install the kagglehub package with pandas-datasets support\n",
        "\n",
        "!pip install google-cloud-storage\n",
        "# Install the google cloud storage library"
      ],
      "metadata": {
        "id": "VKJr_2y6AsZl"
      },
      "execution_count": null,
      "outputs": []
    },
    {
      "cell_type": "code",
      "source": [
        "from google.colab import auth\n",
        "from google.cloud import storage\n",
        "\n",
        "\n",
        "auth.authenticate_user()\n",
        "# Authenticate using OAuth2\n",
        "\n",
        "client = storage.Client()\n",
        "#Google Cloud services such as storage"
      ],
      "metadata": {
        "id": "y40GSg9SnL9J"
      },
      "execution_count": null,
      "outputs": []
    },
    {
      "cell_type": "code",
      "source": [
        "import kagglehub\n",
        "from kagglehub import KaggleDatasetAdapter\n",
        "import pandas as pd\n",
        "from google.cloud import storage\n",
        "from google.colab import auth\n",
        "\n",
        "\n",
        "auth.authenticate_user()\n",
        "# Authenticate GCS\n",
        "\n",
        "file_path = \"vestiaire.csv\"\n",
        "\n",
        "df = kagglehub.load_dataset(\n",
        "    KaggleDatasetAdapter.PANDAS,\n",
        "    \"justinpakzad/vestiaire-fashion-dataset\",\n",
        "    file_path\n",
        ")\n",
        "# Load the dataset directly from Kaggle into pandas\n",
        "\n",
        "\n",
        "print(\"Data types of columns:\", df.dtypes)\n",
        "# Check for data types of columns\n",
        "\n",
        "bucket_name = 'My-bucket-name'\n",
        "# Upload the dataset to Google Cloud Storage\n",
        "\n",
        "client = storage.Client()\n",
        "# Initialize the GCS client\n",
        "\n",
        "bucket = client.get_bucket(bucket_name)\n",
        "# Get the GCS bucket\n",
        "\n",
        "local_file_path = 'Path'\n",
        "# Path to the CSV file in the local environment\n",
        "\n",
        "gcs_path = 'data/vestiaire.csv'\n",
        "# Destination path in GCS\n",
        "\n",
        "blob = bucket.blob(gcs_path)\n",
        "blob.upload_from_filename(local_file_path)\n",
        "# Upload the file to GCS\n",
        "\n",
        "print(f\"File uploaded to {gcs_path}\")\n"
      ],
      "metadata": {
        "colab": {
          "base_uri": "https://localhost:8080/"
        },
        "outputId": "b1548694-7d0d-4eb9-b038-ead98303e3bd",
        "id": "UOSY7deKBQDr"
      },
      "execution_count": null,
      "outputs": [
        {
          "output_type": "stream",
          "name": "stderr",
          "text": [
            "<ipython-input-5-dab4a16b2c14>:15: DeprecationWarning: load_dataset is deprecated and will be removed in future version.\n",
            "  df = kagglehub.load_dataset(\n"
          ]
        },
        {
          "output_type": "stream",
          "name": "stdout",
          "text": [
            "Downloading from https://www.kaggle.com/api/v1/datasets/download/justinpakzad/vestiaire-fashion-dataset?dataset_version_number=2&file_name=vestiaire.csv...\n"
          ]
        },
        {
          "output_type": "stream",
          "name": "stderr",
          "text": [
            "100%|██████████| 120M/120M [00:05<00:00, 22.2MB/s]"
          ]
        },
        {
          "output_type": "stream",
          "name": "stdout",
          "text": [
            "Extracting zip of vestiaire.csv...\n"
          ]
        },
        {
          "output_type": "stream",
          "name": "stderr",
          "text": [
            "\n"
          ]
        },
        {
          "output_type": "stream",
          "name": "stdout",
          "text": [
            "First 5 records:    product_id            product_type  \\\n",
            "0    43247626         Wool mini skirt   \n",
            "1    43247441                  Jacket   \n",
            "2    43246517               Wool coat   \n",
            "3    43246507              Mini skirt   \n",
            "4    43246417  Vegan leather trousers   \n",
            "\n",
            "                                        product_name  \\\n",
            "0  Wool mini skirt Miu Miu Grey size S Internatio...   \n",
            "1      Jacket Barbara Bui Navy size 42 FR in Cotton    \n",
            "2  Wool coat Comme Des Garcons White size S Inter...   \n",
            "3     Mini skirt MSGM Black size 38 IT in Polyester    \n",
            "4  Vegan leather trousers LVIR Black size 36 FR i...   \n",
            "\n",
            "                                 product_description  \\\n",
            "0  Miu Miu – Pleated mini skirt Size: 36 (S)  Wai...   \n",
            "1  For selling nice women's suit Barbara Bui size...   \n",
            "2  Magnificent boiled wool coat. I bought it in t...   \n",
            "3  MSGM Skirt Black Printed Raw-Edge & Embroidere...   \n",
            "4  LVIR black grained faux leather trousers size ...   \n",
            "\n",
            "               product_keywords product_gender_target product_category  \\\n",
            "0           Miu Miu Wool Skirts                 Women   Women Clothing   \n",
            "1    Barbara Bui Cotton Jackets                 Women   Women Clothing   \n",
            "2  Comme Des Garcons Wool Coats                 Women   Women Clothing   \n",
            "3         MSGM Polyester Skirts                 Women   Women Clothing   \n",
            "4   LVIR Vegan leather Trousers                 Women   Women Clothing   \n",
            "\n",
            "    product_season    product_condition  product_like_count  ...  \\\n",
            "0  Autumn / Winter           Never worn                34.0  ...   \n",
            "1      All seasons  Very good condition                 1.0  ...   \n",
            "2  Autumn / Winter  Very good condition                 2.0  ...   \n",
            "3      All seasons  Very good condition                 0.0  ...   \n",
            "4      All seasons  Very good condition                 1.0  ...   \n",
            "\n",
            "   warehouse_name  seller_id   seller_username  usually_ships_within  \\\n",
            "0       Tourcoing   25775970   vitalii25775970                   NaN   \n",
            "1       Tourcoing   13698770    olivia13698770                   NaN   \n",
            "2       Tourcoing    6042365    cecilia6042365              1-2 days   \n",
            "3        Brooklyn   13172949  gretchen13172949              1-2 days   \n",
            "4         Crawley    2578605        crunchykat              3-5 days   \n",
            "\n",
            "   seller_country  seller_products_sold seller_num_products_listed  \\\n",
            "0         Germany                   3.0                       14.0   \n",
            "1         Belgium                   0.0                        0.0   \n",
            "2           Spain                  58.0                       69.0   \n",
            "3   United States                  63.0                      274.0   \n",
            "4  United Kingdom                  19.0                       14.0   \n",
            "\n",
            "  seller_community_rank seller_num_followers seller_pass_rate  \n",
            "0                   0.0                 13.0              0.0  \n",
            "1                   0.0                  8.0              0.0  \n",
            "2                   0.0                 62.0             96.0  \n",
            "3              126346.0                131.0             96.0  \n",
            "4              102821.0                 40.0             89.0  \n",
            "\n",
            "[5 rows x 36 columns]\n",
            "Data types of columns: product_id                      int64\n",
            "product_type                   object\n",
            "product_name                   object\n",
            "product_description            object\n",
            "product_keywords               object\n",
            "product_gender_target          object\n",
            "product_category               object\n",
            "product_season                 object\n",
            "product_condition              object\n",
            "product_like_count            float64\n",
            "sold                             bool\n",
            "reserved                         bool\n",
            "available                        bool\n",
            "in_stock                         bool\n",
            "should_be_gone                   bool\n",
            "brand_id                        int64\n",
            "brand_name                     object\n",
            "brand_url                      object\n",
            "product_material               object\n",
            "product_color                  object\n",
            "price_usd                     float64\n",
            "seller_price                  float64\n",
            "seller_earning                float64\n",
            "seller_badge                   object\n",
            "has_cross_border_fees          object\n",
            "buyers_fees                   float64\n",
            "warehouse_name                 object\n",
            "seller_id                       int64\n",
            "seller_username                object\n",
            "usually_ships_within           object\n",
            "seller_country                 object\n",
            "seller_products_sold          float64\n",
            "seller_num_products_listed    float64\n",
            "seller_community_rank         float64\n",
            "seller_num_followers          float64\n",
            "seller_pass_rate              float64\n",
            "dtype: object\n",
            "File uploaded to data/vestiaire_C.csv\n"
          ]
        }
      ]
    }
  ]
}